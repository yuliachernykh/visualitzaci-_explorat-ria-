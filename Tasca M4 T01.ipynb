{
 "cells": [
  {
   "cell_type": "markdown",
   "id": "05c538f5",
   "metadata": {},
   "source": [
    "## - Exercici 1\n",
    "\n",
    "#### Descarrega el dataset adjunt preu lloguer per trimestre i barri.csv extret de la web OpenDataBCN i resumeix-lo estadísticament i gràficament."
   ]
  },
  {
   "cell_type": "code",
   "execution_count": 33,
   "id": "e6f14748",
   "metadata": {},
   "outputs": [],
   "source": [
    "import pandas as pd\n",
    "import numpy as np\n",
    "import matplotlib.pyplot as plt\n",
    "import seaborn as sns"
   ]
  },
  {
   "cell_type": "code",
   "execution_count": 34,
   "id": "abbf4217",
   "metadata": {},
   "outputs": [],
   "source": [
    "df = pd.read_csv('preu lloguer per trimestre i barri.csv')"
   ]
  },
  {
   "cell_type": "markdown",
   "id": "b5f2cdcc",
   "metadata": {},
   "source": [
    "Observem les 5 primeres files del DataFrame"
   ]
  },
  {
   "cell_type": "code",
   "execution_count": 35,
   "id": "c144ba7e",
   "metadata": {},
   "outputs": [
    {
     "data": {
      "text/html": [
       "<div>\n",
       "<style scoped>\n",
       "    .dataframe tbody tr th:only-of-type {\n",
       "        vertical-align: middle;\n",
       "    }\n",
       "\n",
       "    .dataframe tbody tr th {\n",
       "        vertical-align: top;\n",
       "    }\n",
       "\n",
       "    .dataframe thead th {\n",
       "        text-align: right;\n",
       "    }\n",
       "</style>\n",
       "<table border=\"1\" class=\"dataframe\">\n",
       "  <thead>\n",
       "    <tr style=\"text-align: right;\">\n",
       "      <th></th>\n",
       "      <th>Any</th>\n",
       "      <th>Trimestre</th>\n",
       "      <th>Codi_Districte</th>\n",
       "      <th>Nom_Districte</th>\n",
       "      <th>Codi_Barri</th>\n",
       "      <th>Nom_Barri</th>\n",
       "      <th>Lloguer_mitja</th>\n",
       "      <th>Preu</th>\n",
       "    </tr>\n",
       "  </thead>\n",
       "  <tbody>\n",
       "    <tr>\n",
       "      <th>0</th>\n",
       "      <td>2021</td>\n",
       "      <td>1</td>\n",
       "      <td>1</td>\n",
       "      <td>Ciutat Vella</td>\n",
       "      <td>1</td>\n",
       "      <td>el Raval</td>\n",
       "      <td>Lloguer mitjà mensual (Euros/mes)</td>\n",
       "      <td>759.2</td>\n",
       "    </tr>\n",
       "    <tr>\n",
       "      <th>1</th>\n",
       "      <td>2021</td>\n",
       "      <td>1</td>\n",
       "      <td>1</td>\n",
       "      <td>Ciutat Vella</td>\n",
       "      <td>2</td>\n",
       "      <td>el Barri Gòtic</td>\n",
       "      <td>Lloguer mitjà mensual (Euros/mes)</td>\n",
       "      <td>929.6</td>\n",
       "    </tr>\n",
       "    <tr>\n",
       "      <th>2</th>\n",
       "      <td>2021</td>\n",
       "      <td>1</td>\n",
       "      <td>1</td>\n",
       "      <td>Ciutat Vella</td>\n",
       "      <td>3</td>\n",
       "      <td>la Barceloneta</td>\n",
       "      <td>Lloguer mitjà mensual (Euros/mes)</td>\n",
       "      <td>808.9</td>\n",
       "    </tr>\n",
       "    <tr>\n",
       "      <th>3</th>\n",
       "      <td>2021</td>\n",
       "      <td>1</td>\n",
       "      <td>1</td>\n",
       "      <td>Ciutat Vella</td>\n",
       "      <td>4</td>\n",
       "      <td>Sant Pere, Santa Caterina i la Ribera</td>\n",
       "      <td>Lloguer mitjà mensual (Euros/mes)</td>\n",
       "      <td>879.4</td>\n",
       "    </tr>\n",
       "    <tr>\n",
       "      <th>4</th>\n",
       "      <td>2021</td>\n",
       "      <td>1</td>\n",
       "      <td>2</td>\n",
       "      <td>Eixample</td>\n",
       "      <td>5</td>\n",
       "      <td>el Fort Pienc</td>\n",
       "      <td>Lloguer mitjà mensual (Euros/mes)</td>\n",
       "      <td>918.0</td>\n",
       "    </tr>\n",
       "  </tbody>\n",
       "</table>\n",
       "</div>"
      ],
      "text/plain": [
       "    Any  Trimestre  Codi_Districte Nom_Districte  Codi_Barri  \\\n",
       "0  2021          1               1  Ciutat Vella           1   \n",
       "1  2021          1               1  Ciutat Vella           2   \n",
       "2  2021          1               1  Ciutat Vella           3   \n",
       "3  2021          1               1  Ciutat Vella           4   \n",
       "4  2021          1               2      Eixample           5   \n",
       "\n",
       "                               Nom_Barri                      Lloguer_mitja  \\\n",
       "0                               el Raval  Lloguer mitjà mensual (Euros/mes)   \n",
       "1                         el Barri Gòtic  Lloguer mitjà mensual (Euros/mes)   \n",
       "2                         la Barceloneta  Lloguer mitjà mensual (Euros/mes)   \n",
       "3  Sant Pere, Santa Caterina i la Ribera  Lloguer mitjà mensual (Euros/mes)   \n",
       "4                          el Fort Pienc  Lloguer mitjà mensual (Euros/mes)   \n",
       "\n",
       "    Preu  \n",
       "0  759.2  \n",
       "1  929.6  \n",
       "2  808.9  \n",
       "3  879.4  \n",
       "4  918.0  "
      ]
     },
     "execution_count": 35,
     "metadata": {},
     "output_type": "execute_result"
    }
   ],
   "source": [
    "df.head()"
   ]
  },
  {
   "cell_type": "markdown",
   "id": "24d71080",
   "metadata": {},
   "source": [
    "Busquem valors duplicats"
   ]
  },
  {
   "cell_type": "code",
   "execution_count": 36,
   "id": "15560607",
   "metadata": {},
   "outputs": [
    {
     "data": {
      "text/plain": [
       "0"
      ]
     },
     "execution_count": 36,
     "metadata": {},
     "output_type": "execute_result"
    }
   ],
   "source": [
    "df.duplicated().sum()"
   ]
  },
  {
   "cell_type": "markdown",
   "id": "726ef6ca",
   "metadata": {},
   "source": [
    "Busquem valors NaN"
   ]
  },
  {
   "cell_type": "code",
   "execution_count": 37,
   "id": "ac629bfa",
   "metadata": {},
   "outputs": [
    {
     "data": {
      "text/plain": [
       "Any               0\n",
       "Trimestre         0\n",
       "Codi_Districte    0\n",
       "Nom_Districte     0\n",
       "Codi_Barri        0\n",
       "Nom_Barri         0\n",
       "Lloguer_mitja     0\n",
       "Preu              0\n",
       "dtype: int64"
      ]
     },
     "execution_count": 37,
     "metadata": {},
     "output_type": "execute_result"
    }
   ],
   "source": [
    "df.isnull().sum()"
   ]
  },
  {
   "cell_type": "markdown",
   "id": "42f35078",
   "metadata": {},
   "source": [
    "Ordenem els preus del lloguer mitjà i veiem dues coses: que hi ha valors faltants i que hi ha preus de lloguer molt baixos. Si ens fixem això és perquè hi ha dues categories: Lloguer mitjà per superfície i lloguer mitjà mensual. Eliminarem les files amb dels valors faltants (indicats amb --) i més tard filtrarem les dues categories per fer l'anàlisi."
   ]
  },
  {
   "cell_type": "code",
   "execution_count": 38,
   "id": "570d8c85",
   "metadata": {},
   "outputs": [
    {
     "data": {
      "text/html": [
       "<div>\n",
       "<style scoped>\n",
       "    .dataframe tbody tr th:only-of-type {\n",
       "        vertical-align: middle;\n",
       "    }\n",
       "\n",
       "    .dataframe tbody tr th {\n",
       "        vertical-align: top;\n",
       "    }\n",
       "\n",
       "    .dataframe thead th {\n",
       "        text-align: right;\n",
       "    }\n",
       "</style>\n",
       "<table border=\"1\" class=\"dataframe\">\n",
       "  <thead>\n",
       "    <tr style=\"text-align: right;\">\n",
       "      <th></th>\n",
       "      <th>Any</th>\n",
       "      <th>Trimestre</th>\n",
       "      <th>Codi_Districte</th>\n",
       "      <th>Nom_Districte</th>\n",
       "      <th>Codi_Barri</th>\n",
       "      <th>Nom_Barri</th>\n",
       "      <th>Lloguer_mitja</th>\n",
       "      <th>Preu</th>\n",
       "    </tr>\n",
       "  </thead>\n",
       "  <tbody>\n",
       "    <tr>\n",
       "      <th>422</th>\n",
       "      <td>2021</td>\n",
       "      <td>3</td>\n",
       "      <td>9</td>\n",
       "      <td>Sant Andreu</td>\n",
       "      <td>58</td>\n",
       "      <td>Baró de Viver</td>\n",
       "      <td>Lloguer mitjà per superfície (Euros/m2 mes)</td>\n",
       "      <td>--</td>\n",
       "    </tr>\n",
       "    <tr>\n",
       "      <th>420</th>\n",
       "      <td>2021</td>\n",
       "      <td>3</td>\n",
       "      <td>8</td>\n",
       "      <td>Nou Barris</td>\n",
       "      <td>56</td>\n",
       "      <td>Vallbona</td>\n",
       "      <td>Lloguer mitjà per superfície (Euros/m2 mes)</td>\n",
       "      <td>--</td>\n",
       "    </tr>\n",
       "    <tr>\n",
       "      <th>418</th>\n",
       "      <td>2021</td>\n",
       "      <td>3</td>\n",
       "      <td>8</td>\n",
       "      <td>Nou Barris</td>\n",
       "      <td>54</td>\n",
       "      <td>Torre Baró</td>\n",
       "      <td>Lloguer mitjà per superfície (Euros/m2 mes)</td>\n",
       "      <td>--</td>\n",
       "    </tr>\n",
       "    <tr>\n",
       "      <th>265</th>\n",
       "      <td>2021</td>\n",
       "      <td>2</td>\n",
       "      <td>8</td>\n",
       "      <td>Nou Barris</td>\n",
       "      <td>47</td>\n",
       "      <td>Can Peguera</td>\n",
       "      <td>Lloguer mitjà per superfície (Euros/m2 mes)</td>\n",
       "      <td>--</td>\n",
       "    </tr>\n",
       "    <tr>\n",
       "      <th>411</th>\n",
       "      <td>2021</td>\n",
       "      <td>3</td>\n",
       "      <td>8</td>\n",
       "      <td>Nou Barris</td>\n",
       "      <td>47</td>\n",
       "      <td>Can Peguera</td>\n",
       "      <td>Lloguer mitjà per superfície (Euros/m2 mes)</td>\n",
       "      <td>--</td>\n",
       "    </tr>\n",
       "    <tr>\n",
       "      <th>130</th>\n",
       "      <td>2021</td>\n",
       "      <td>1</td>\n",
       "      <td>9</td>\n",
       "      <td>Sant Andreu</td>\n",
       "      <td>58</td>\n",
       "      <td>Baró de Viver</td>\n",
       "      <td>Lloguer mitjà per superfície (Euros/m2 mes)</td>\n",
       "      <td>--</td>\n",
       "    </tr>\n",
       "    <tr>\n",
       "      <th>57</th>\n",
       "      <td>2021</td>\n",
       "      <td>1</td>\n",
       "      <td>9</td>\n",
       "      <td>Sant Andreu</td>\n",
       "      <td>58</td>\n",
       "      <td>Baró de Viver</td>\n",
       "      <td>Lloguer mitjà mensual (Euros/mes)</td>\n",
       "      <td>--</td>\n",
       "    </tr>\n",
       "    <tr>\n",
       "      <th>406</th>\n",
       "      <td>2021</td>\n",
       "      <td>3</td>\n",
       "      <td>7</td>\n",
       "      <td>Horta-Guinardó</td>\n",
       "      <td>42</td>\n",
       "      <td>la Clota</td>\n",
       "      <td>Lloguer mitjà per superfície (Euros/m2 mes)</td>\n",
       "      <td>--</td>\n",
       "    </tr>\n",
       "    <tr>\n",
       "      <th>157</th>\n",
       "      <td>2021</td>\n",
       "      <td>2</td>\n",
       "      <td>3</td>\n",
       "      <td>Sants-Montjuïc</td>\n",
       "      <td>12</td>\n",
       "      <td>la Marina del Prat Vermell</td>\n",
       "      <td>Lloguer mitjà mensual (Euros/mes)</td>\n",
       "      <td>--</td>\n",
       "    </tr>\n",
       "    <tr>\n",
       "      <th>187</th>\n",
       "      <td>2021</td>\n",
       "      <td>2</td>\n",
       "      <td>7</td>\n",
       "      <td>Horta-Guinardó</td>\n",
       "      <td>42</td>\n",
       "      <td>la Clota</td>\n",
       "      <td>Lloguer mitjà mensual (Euros/mes)</td>\n",
       "      <td>--</td>\n",
       "    </tr>\n",
       "    <tr>\n",
       "      <th>303</th>\n",
       "      <td>2021</td>\n",
       "      <td>3</td>\n",
       "      <td>3</td>\n",
       "      <td>Sants-Montjuïc</td>\n",
       "      <td>12</td>\n",
       "      <td>la Marina del Prat Vermell</td>\n",
       "      <td>Lloguer mitjà mensual (Euros/mes)</td>\n",
       "      <td>--</td>\n",
       "    </tr>\n",
       "    <tr>\n",
       "      <th>376</th>\n",
       "      <td>2021</td>\n",
       "      <td>3</td>\n",
       "      <td>3</td>\n",
       "      <td>Sants-Montjuïc</td>\n",
       "      <td>12</td>\n",
       "      <td>la Marina del Prat Vermell</td>\n",
       "      <td>Lloguer mitjà per superfície (Euros/m2 mes)</td>\n",
       "      <td>--</td>\n",
       "    </tr>\n",
       "    <tr>\n",
       "      <th>192</th>\n",
       "      <td>2021</td>\n",
       "      <td>2</td>\n",
       "      <td>8</td>\n",
       "      <td>Nou Barris</td>\n",
       "      <td>47</td>\n",
       "      <td>Can Peguera</td>\n",
       "      <td>Lloguer mitjà mensual (Euros/mes)</td>\n",
       "      <td>--</td>\n",
       "    </tr>\n",
       "    <tr>\n",
       "      <th>349</th>\n",
       "      <td>2021</td>\n",
       "      <td>3</td>\n",
       "      <td>9</td>\n",
       "      <td>Sant Andreu</td>\n",
       "      <td>58</td>\n",
       "      <td>Baró de Viver</td>\n",
       "      <td>Lloguer mitjà mensual (Euros/mes)</td>\n",
       "      <td>--</td>\n",
       "    </tr>\n",
       "    <tr>\n",
       "      <th>347</th>\n",
       "      <td>2021</td>\n",
       "      <td>3</td>\n",
       "      <td>8</td>\n",
       "      <td>Nou Barris</td>\n",
       "      <td>56</td>\n",
       "      <td>Vallbona</td>\n",
       "      <td>Lloguer mitjà mensual (Euros/mes)</td>\n",
       "      <td>--</td>\n",
       "    </tr>\n",
       "    <tr>\n",
       "      <th>345</th>\n",
       "      <td>2021</td>\n",
       "      <td>3</td>\n",
       "      <td>8</td>\n",
       "      <td>Nou Barris</td>\n",
       "      <td>54</td>\n",
       "      <td>Torre Baró</td>\n",
       "      <td>Lloguer mitjà mensual (Euros/mes)</td>\n",
       "      <td>--</td>\n",
       "    </tr>\n",
       "    <tr>\n",
       "      <th>338</th>\n",
       "      <td>2021</td>\n",
       "      <td>3</td>\n",
       "      <td>8</td>\n",
       "      <td>Nou Barris</td>\n",
       "      <td>47</td>\n",
       "      <td>Can Peguera</td>\n",
       "      <td>Lloguer mitjà mensual (Euros/mes)</td>\n",
       "      <td>--</td>\n",
       "    </tr>\n",
       "    <tr>\n",
       "      <th>333</th>\n",
       "      <td>2021</td>\n",
       "      <td>3</td>\n",
       "      <td>7</td>\n",
       "      <td>Horta-Guinardó</td>\n",
       "      <td>42</td>\n",
       "      <td>la Clota</td>\n",
       "      <td>Lloguer mitjà mensual (Euros/mes)</td>\n",
       "      <td>--</td>\n",
       "    </tr>\n",
       "    <tr>\n",
       "      <th>41</th>\n",
       "      <td>2021</td>\n",
       "      <td>1</td>\n",
       "      <td>7</td>\n",
       "      <td>Horta-Guinardó</td>\n",
       "      <td>42</td>\n",
       "      <td>la Clota</td>\n",
       "      <td>Lloguer mitjà mensual (Euros/mes)</td>\n",
       "      <td>--</td>\n",
       "    </tr>\n",
       "    <tr>\n",
       "      <th>199</th>\n",
       "      <td>2021</td>\n",
       "      <td>2</td>\n",
       "      <td>8</td>\n",
       "      <td>Nou Barris</td>\n",
       "      <td>54</td>\n",
       "      <td>Torre Baró</td>\n",
       "      <td>Lloguer mitjà mensual (Euros/mes)</td>\n",
       "      <td>--</td>\n",
       "    </tr>\n",
       "    <tr>\n",
       "      <th>46</th>\n",
       "      <td>2021</td>\n",
       "      <td>1</td>\n",
       "      <td>8</td>\n",
       "      <td>Nou Barris</td>\n",
       "      <td>47</td>\n",
       "      <td>Can Peguera</td>\n",
       "      <td>Lloguer mitjà mensual (Euros/mes)</td>\n",
       "      <td>--</td>\n",
       "    </tr>\n",
       "    <tr>\n",
       "      <th>201</th>\n",
       "      <td>2021</td>\n",
       "      <td>2</td>\n",
       "      <td>8</td>\n",
       "      <td>Nou Barris</td>\n",
       "      <td>56</td>\n",
       "      <td>Vallbona</td>\n",
       "      <td>Lloguer mitjà mensual (Euros/mes)</td>\n",
       "      <td>--</td>\n",
       "    </tr>\n",
       "    <tr>\n",
       "      <th>230</th>\n",
       "      <td>2021</td>\n",
       "      <td>2</td>\n",
       "      <td>3</td>\n",
       "      <td>Sants-Montjuïc</td>\n",
       "      <td>12</td>\n",
       "      <td>la Marina del Prat Vermell</td>\n",
       "      <td>Lloguer mitjà per superfície (Euros/m2 mes)</td>\n",
       "      <td>--</td>\n",
       "    </tr>\n",
       "    <tr>\n",
       "      <th>55</th>\n",
       "      <td>2021</td>\n",
       "      <td>1</td>\n",
       "      <td>8</td>\n",
       "      <td>Nou Barris</td>\n",
       "      <td>56</td>\n",
       "      <td>Vallbona</td>\n",
       "      <td>Lloguer mitjà mensual (Euros/mes)</td>\n",
       "      <td>--</td>\n",
       "    </tr>\n",
       "    <tr>\n",
       "      <th>272</th>\n",
       "      <td>2021</td>\n",
       "      <td>2</td>\n",
       "      <td>8</td>\n",
       "      <td>Nou Barris</td>\n",
       "      <td>54</td>\n",
       "      <td>Torre Baró</td>\n",
       "      <td>Lloguer mitjà per superfície (Euros/m2 mes)</td>\n",
       "      <td>--</td>\n",
       "    </tr>\n",
       "    <tr>\n",
       "      <th>114</th>\n",
       "      <td>2021</td>\n",
       "      <td>1</td>\n",
       "      <td>7</td>\n",
       "      <td>Horta-Guinardó</td>\n",
       "      <td>42</td>\n",
       "      <td>la Clota</td>\n",
       "      <td>Lloguer mitjà per superfície (Euros/m2 mes)</td>\n",
       "      <td>--</td>\n",
       "    </tr>\n",
       "    <tr>\n",
       "      <th>260</th>\n",
       "      <td>2021</td>\n",
       "      <td>2</td>\n",
       "      <td>7</td>\n",
       "      <td>Horta-Guinardó</td>\n",
       "      <td>42</td>\n",
       "      <td>la Clota</td>\n",
       "      <td>Lloguer mitjà per superfície (Euros/m2 mes)</td>\n",
       "      <td>--</td>\n",
       "    </tr>\n",
       "    <tr>\n",
       "      <th>566</th>\n",
       "      <td>2021</td>\n",
       "      <td>4</td>\n",
       "      <td>8</td>\n",
       "      <td>Nou Barris</td>\n",
       "      <td>56</td>\n",
       "      <td>Vallbona</td>\n",
       "      <td>Lloguer mitjà per superfície (Euros/m2 mes)</td>\n",
       "      <td>--</td>\n",
       "    </tr>\n",
       "    <tr>\n",
       "      <th>564</th>\n",
       "      <td>2021</td>\n",
       "      <td>4</td>\n",
       "      <td>8</td>\n",
       "      <td>Nou Barris</td>\n",
       "      <td>54</td>\n",
       "      <td>Torre Baró</td>\n",
       "      <td>Lloguer mitjà per superfície (Euros/m2 mes)</td>\n",
       "      <td>--</td>\n",
       "    </tr>\n",
       "    <tr>\n",
       "      <th>84</th>\n",
       "      <td>2021</td>\n",
       "      <td>1</td>\n",
       "      <td>3</td>\n",
       "      <td>Sants-Montjuïc</td>\n",
       "      <td>12</td>\n",
       "      <td>la Marina del Prat Vermell</td>\n",
       "      <td>Lloguer mitjà per superfície (Euros/m2 mes)</td>\n",
       "      <td>--</td>\n",
       "    </tr>\n",
       "    <tr>\n",
       "      <th>119</th>\n",
       "      <td>2021</td>\n",
       "      <td>1</td>\n",
       "      <td>8</td>\n",
       "      <td>Nou Barris</td>\n",
       "      <td>47</td>\n",
       "      <td>Can Peguera</td>\n",
       "      <td>Lloguer mitjà per superfície (Euros/m2 mes)</td>\n",
       "      <td>--</td>\n",
       "    </tr>\n",
       "    <tr>\n",
       "      <th>557</th>\n",
       "      <td>2021</td>\n",
       "      <td>4</td>\n",
       "      <td>8</td>\n",
       "      <td>Nou Barris</td>\n",
       "      <td>47</td>\n",
       "      <td>Can Peguera</td>\n",
       "      <td>Lloguer mitjà per superfície (Euros/m2 mes)</td>\n",
       "      <td>--</td>\n",
       "    </tr>\n",
       "    <tr>\n",
       "      <th>552</th>\n",
       "      <td>2021</td>\n",
       "      <td>4</td>\n",
       "      <td>7</td>\n",
       "      <td>Horta-Guinardó</td>\n",
       "      <td>42</td>\n",
       "      <td>la Clota</td>\n",
       "      <td>Lloguer mitjà per superfície (Euros/m2 mes)</td>\n",
       "      <td>--</td>\n",
       "    </tr>\n",
       "    <tr>\n",
       "      <th>53</th>\n",
       "      <td>2021</td>\n",
       "      <td>1</td>\n",
       "      <td>8</td>\n",
       "      <td>Nou Barris</td>\n",
       "      <td>54</td>\n",
       "      <td>Torre Baró</td>\n",
       "      <td>Lloguer mitjà mensual (Euros/mes)</td>\n",
       "      <td>--</td>\n",
       "    </tr>\n",
       "    <tr>\n",
       "      <th>11</th>\n",
       "      <td>2021</td>\n",
       "      <td>1</td>\n",
       "      <td>3</td>\n",
       "      <td>Sants-Montjuïc</td>\n",
       "      <td>12</td>\n",
       "      <td>la Marina del Prat Vermell</td>\n",
       "      <td>Lloguer mitjà mensual (Euros/mes)</td>\n",
       "      <td>--</td>\n",
       "    </tr>\n",
       "    <tr>\n",
       "      <th>522</th>\n",
       "      <td>2021</td>\n",
       "      <td>4</td>\n",
       "      <td>3</td>\n",
       "      <td>Sants-Montjuïc</td>\n",
       "      <td>12</td>\n",
       "      <td>la Marina del Prat Vermell</td>\n",
       "      <td>Lloguer mitjà per superfície (Euros/m2 mes)</td>\n",
       "      <td>--</td>\n",
       "    </tr>\n",
       "    <tr>\n",
       "      <th>126</th>\n",
       "      <td>2021</td>\n",
       "      <td>1</td>\n",
       "      <td>8</td>\n",
       "      <td>Nou Barris</td>\n",
       "      <td>54</td>\n",
       "      <td>Torre Baró</td>\n",
       "      <td>Lloguer mitjà per superfície (Euros/m2 mes)</td>\n",
       "      <td>--</td>\n",
       "    </tr>\n",
       "    <tr>\n",
       "      <th>493</th>\n",
       "      <td>2021</td>\n",
       "      <td>4</td>\n",
       "      <td>8</td>\n",
       "      <td>Nou Barris</td>\n",
       "      <td>56</td>\n",
       "      <td>Vallbona</td>\n",
       "      <td>Lloguer mitjà mensual (Euros/mes)</td>\n",
       "      <td>--</td>\n",
       "    </tr>\n",
       "    <tr>\n",
       "      <th>491</th>\n",
       "      <td>2021</td>\n",
       "      <td>4</td>\n",
       "      <td>8</td>\n",
       "      <td>Nou Barris</td>\n",
       "      <td>54</td>\n",
       "      <td>Torre Baró</td>\n",
       "      <td>Lloguer mitjà mensual (Euros/mes)</td>\n",
       "      <td>--</td>\n",
       "    </tr>\n",
       "    <tr>\n",
       "      <th>484</th>\n",
       "      <td>2021</td>\n",
       "      <td>4</td>\n",
       "      <td>8</td>\n",
       "      <td>Nou Barris</td>\n",
       "      <td>47</td>\n",
       "      <td>Can Peguera</td>\n",
       "      <td>Lloguer mitjà mensual (Euros/mes)</td>\n",
       "      <td>--</td>\n",
       "    </tr>\n",
       "    <tr>\n",
       "      <th>479</th>\n",
       "      <td>2021</td>\n",
       "      <td>4</td>\n",
       "      <td>7</td>\n",
       "      <td>Horta-Guinardó</td>\n",
       "      <td>42</td>\n",
       "      <td>la Clota</td>\n",
       "      <td>Lloguer mitjà mensual (Euros/mes)</td>\n",
       "      <td>--</td>\n",
       "    </tr>\n",
       "    <tr>\n",
       "      <th>128</th>\n",
       "      <td>2021</td>\n",
       "      <td>1</td>\n",
       "      <td>8</td>\n",
       "      <td>Nou Barris</td>\n",
       "      <td>56</td>\n",
       "      <td>Vallbona</td>\n",
       "      <td>Lloguer mitjà per superfície (Euros/m2 mes)</td>\n",
       "      <td>--</td>\n",
       "    </tr>\n",
       "    <tr>\n",
       "      <th>449</th>\n",
       "      <td>2021</td>\n",
       "      <td>4</td>\n",
       "      <td>3</td>\n",
       "      <td>Sants-Montjuïc</td>\n",
       "      <td>12</td>\n",
       "      <td>la Marina del Prat Vermell</td>\n",
       "      <td>Lloguer mitjà mensual (Euros/mes)</td>\n",
       "      <td>--</td>\n",
       "    </tr>\n",
       "    <tr>\n",
       "      <th>274</th>\n",
       "      <td>2021</td>\n",
       "      <td>2</td>\n",
       "      <td>8</td>\n",
       "      <td>Nou Barris</td>\n",
       "      <td>56</td>\n",
       "      <td>Vallbona</td>\n",
       "      <td>Lloguer mitjà per superfície (Euros/m2 mes)</td>\n",
       "      <td>--</td>\n",
       "    </tr>\n",
       "    <tr>\n",
       "      <th>413</th>\n",
       "      <td>2021</td>\n",
       "      <td>3</td>\n",
       "      <td>8</td>\n",
       "      <td>Nou Barris</td>\n",
       "      <td>49</td>\n",
       "      <td>Canyelles</td>\n",
       "      <td>Lloguer mitjà per superfície (Euros/m2 mes)</td>\n",
       "      <td>10.0</td>\n",
       "    </tr>\n",
       "    <tr>\n",
       "      <th>266</th>\n",
       "      <td>2021</td>\n",
       "      <td>2</td>\n",
       "      <td>8</td>\n",
       "      <td>Nou Barris</td>\n",
       "      <td>48</td>\n",
       "      <td>la Guineueta</td>\n",
       "      <td>Lloguer mitjà per superfície (Euros/m2 mes)</td>\n",
       "      <td>10.1</td>\n",
       "    </tr>\n",
       "    <tr>\n",
       "      <th>275</th>\n",
       "      <td>2021</td>\n",
       "      <td>2</td>\n",
       "      <td>9</td>\n",
       "      <td>Sant Andreu</td>\n",
       "      <td>57</td>\n",
       "      <td>la Trinitat Vella</td>\n",
       "      <td>Lloguer mitjà per superfície (Euros/m2 mes)</td>\n",
       "      <td>10.1</td>\n",
       "    </tr>\n",
       "    <tr>\n",
       "      <th>421</th>\n",
       "      <td>2021</td>\n",
       "      <td>3</td>\n",
       "      <td>9</td>\n",
       "      <td>Sant Andreu</td>\n",
       "      <td>57</td>\n",
       "      <td>la Trinitat Vella</td>\n",
       "      <td>Lloguer mitjà per superfície (Euros/m2 mes)</td>\n",
       "      <td>10.2</td>\n",
       "    </tr>\n",
       "    <tr>\n",
       "      <th>423</th>\n",
       "      <td>2021</td>\n",
       "      <td>3</td>\n",
       "      <td>9</td>\n",
       "      <td>Sant Andreu</td>\n",
       "      <td>59</td>\n",
       "      <td>el Bon Pastor</td>\n",
       "      <td>Lloguer mitjà per superfície (Euros/m2 mes)</td>\n",
       "      <td>10.2</td>\n",
       "    </tr>\n",
       "    <tr>\n",
       "      <th>257</th>\n",
       "      <td>2021</td>\n",
       "      <td>2</td>\n",
       "      <td>7</td>\n",
       "      <td>Horta-Guinardó</td>\n",
       "      <td>39</td>\n",
       "      <td>Sant Genís dels Agudells</td>\n",
       "      <td>Lloguer mitjà per superfície (Euros/m2 mes)</td>\n",
       "      <td>10.2</td>\n",
       "    </tr>\n",
       "  </tbody>\n",
       "</table>\n",
       "</div>"
      ],
      "text/plain": [
       "      Any  Trimestre  Codi_Districte   Nom_Districte  Codi_Barri  \\\n",
       "422  2021          3               9     Sant Andreu          58   \n",
       "420  2021          3               8      Nou Barris          56   \n",
       "418  2021          3               8      Nou Barris          54   \n",
       "265  2021          2               8      Nou Barris          47   \n",
       "411  2021          3               8      Nou Barris          47   \n",
       "130  2021          1               9     Sant Andreu          58   \n",
       "57   2021          1               9     Sant Andreu          58   \n",
       "406  2021          3               7  Horta-Guinardó          42   \n",
       "157  2021          2               3  Sants-Montjuïc          12   \n",
       "187  2021          2               7  Horta-Guinardó          42   \n",
       "303  2021          3               3  Sants-Montjuïc          12   \n",
       "376  2021          3               3  Sants-Montjuïc          12   \n",
       "192  2021          2               8      Nou Barris          47   \n",
       "349  2021          3               9     Sant Andreu          58   \n",
       "347  2021          3               8      Nou Barris          56   \n",
       "345  2021          3               8      Nou Barris          54   \n",
       "338  2021          3               8      Nou Barris          47   \n",
       "333  2021          3               7  Horta-Guinardó          42   \n",
       "41   2021          1               7  Horta-Guinardó          42   \n",
       "199  2021          2               8      Nou Barris          54   \n",
       "46   2021          1               8      Nou Barris          47   \n",
       "201  2021          2               8      Nou Barris          56   \n",
       "230  2021          2               3  Sants-Montjuïc          12   \n",
       "55   2021          1               8      Nou Barris          56   \n",
       "272  2021          2               8      Nou Barris          54   \n",
       "114  2021          1               7  Horta-Guinardó          42   \n",
       "260  2021          2               7  Horta-Guinardó          42   \n",
       "566  2021          4               8      Nou Barris          56   \n",
       "564  2021          4               8      Nou Barris          54   \n",
       "84   2021          1               3  Sants-Montjuïc          12   \n",
       "119  2021          1               8      Nou Barris          47   \n",
       "557  2021          4               8      Nou Barris          47   \n",
       "552  2021          4               7  Horta-Guinardó          42   \n",
       "53   2021          1               8      Nou Barris          54   \n",
       "11   2021          1               3  Sants-Montjuïc          12   \n",
       "522  2021          4               3  Sants-Montjuïc          12   \n",
       "126  2021          1               8      Nou Barris          54   \n",
       "493  2021          4               8      Nou Barris          56   \n",
       "491  2021          4               8      Nou Barris          54   \n",
       "484  2021          4               8      Nou Barris          47   \n",
       "479  2021          4               7  Horta-Guinardó          42   \n",
       "128  2021          1               8      Nou Barris          56   \n",
       "449  2021          4               3  Sants-Montjuïc          12   \n",
       "274  2021          2               8      Nou Barris          56   \n",
       "413  2021          3               8      Nou Barris          49   \n",
       "266  2021          2               8      Nou Barris          48   \n",
       "275  2021          2               9     Sant Andreu          57   \n",
       "421  2021          3               9     Sant Andreu          57   \n",
       "423  2021          3               9     Sant Andreu          59   \n",
       "257  2021          2               7  Horta-Guinardó          39   \n",
       "\n",
       "                      Nom_Barri                                Lloguer_mitja  \\\n",
       "422               Baró de Viver  Lloguer mitjà per superfície (Euros/m2 mes)   \n",
       "420                    Vallbona  Lloguer mitjà per superfície (Euros/m2 mes)   \n",
       "418                  Torre Baró  Lloguer mitjà per superfície (Euros/m2 mes)   \n",
       "265                 Can Peguera  Lloguer mitjà per superfície (Euros/m2 mes)   \n",
       "411                 Can Peguera  Lloguer mitjà per superfície (Euros/m2 mes)   \n",
       "130               Baró de Viver  Lloguer mitjà per superfície (Euros/m2 mes)   \n",
       "57                Baró de Viver            Lloguer mitjà mensual (Euros/mes)   \n",
       "406                    la Clota  Lloguer mitjà per superfície (Euros/m2 mes)   \n",
       "157  la Marina del Prat Vermell            Lloguer mitjà mensual (Euros/mes)   \n",
       "187                    la Clota            Lloguer mitjà mensual (Euros/mes)   \n",
       "303  la Marina del Prat Vermell            Lloguer mitjà mensual (Euros/mes)   \n",
       "376  la Marina del Prat Vermell  Lloguer mitjà per superfície (Euros/m2 mes)   \n",
       "192                 Can Peguera            Lloguer mitjà mensual (Euros/mes)   \n",
       "349               Baró de Viver            Lloguer mitjà mensual (Euros/mes)   \n",
       "347                    Vallbona            Lloguer mitjà mensual (Euros/mes)   \n",
       "345                  Torre Baró            Lloguer mitjà mensual (Euros/mes)   \n",
       "338                 Can Peguera            Lloguer mitjà mensual (Euros/mes)   \n",
       "333                    la Clota            Lloguer mitjà mensual (Euros/mes)   \n",
       "41                     la Clota            Lloguer mitjà mensual (Euros/mes)   \n",
       "199                  Torre Baró            Lloguer mitjà mensual (Euros/mes)   \n",
       "46                  Can Peguera            Lloguer mitjà mensual (Euros/mes)   \n",
       "201                    Vallbona            Lloguer mitjà mensual (Euros/mes)   \n",
       "230  la Marina del Prat Vermell  Lloguer mitjà per superfície (Euros/m2 mes)   \n",
       "55                     Vallbona            Lloguer mitjà mensual (Euros/mes)   \n",
       "272                  Torre Baró  Lloguer mitjà per superfície (Euros/m2 mes)   \n",
       "114                    la Clota  Lloguer mitjà per superfície (Euros/m2 mes)   \n",
       "260                    la Clota  Lloguer mitjà per superfície (Euros/m2 mes)   \n",
       "566                    Vallbona  Lloguer mitjà per superfície (Euros/m2 mes)   \n",
       "564                  Torre Baró  Lloguer mitjà per superfície (Euros/m2 mes)   \n",
       "84   la Marina del Prat Vermell  Lloguer mitjà per superfície (Euros/m2 mes)   \n",
       "119                 Can Peguera  Lloguer mitjà per superfície (Euros/m2 mes)   \n",
       "557                 Can Peguera  Lloguer mitjà per superfície (Euros/m2 mes)   \n",
       "552                    la Clota  Lloguer mitjà per superfície (Euros/m2 mes)   \n",
       "53                   Torre Baró            Lloguer mitjà mensual (Euros/mes)   \n",
       "11   la Marina del Prat Vermell            Lloguer mitjà mensual (Euros/mes)   \n",
       "522  la Marina del Prat Vermell  Lloguer mitjà per superfície (Euros/m2 mes)   \n",
       "126                  Torre Baró  Lloguer mitjà per superfície (Euros/m2 mes)   \n",
       "493                    Vallbona            Lloguer mitjà mensual (Euros/mes)   \n",
       "491                  Torre Baró            Lloguer mitjà mensual (Euros/mes)   \n",
       "484                 Can Peguera            Lloguer mitjà mensual (Euros/mes)   \n",
       "479                    la Clota            Lloguer mitjà mensual (Euros/mes)   \n",
       "128                    Vallbona  Lloguer mitjà per superfície (Euros/m2 mes)   \n",
       "449  la Marina del Prat Vermell            Lloguer mitjà mensual (Euros/mes)   \n",
       "274                    Vallbona  Lloguer mitjà per superfície (Euros/m2 mes)   \n",
       "413                   Canyelles  Lloguer mitjà per superfície (Euros/m2 mes)   \n",
       "266                la Guineueta  Lloguer mitjà per superfície (Euros/m2 mes)   \n",
       "275           la Trinitat Vella  Lloguer mitjà per superfície (Euros/m2 mes)   \n",
       "421           la Trinitat Vella  Lloguer mitjà per superfície (Euros/m2 mes)   \n",
       "423               el Bon Pastor  Lloguer mitjà per superfície (Euros/m2 mes)   \n",
       "257    Sant Genís dels Agudells  Lloguer mitjà per superfície (Euros/m2 mes)   \n",
       "\n",
       "     Preu  \n",
       "422    --  \n",
       "420    --  \n",
       "418    --  \n",
       "265    --  \n",
       "411    --  \n",
       "130    --  \n",
       "57     --  \n",
       "406    --  \n",
       "157    --  \n",
       "187    --  \n",
       "303    --  \n",
       "376    --  \n",
       "192    --  \n",
       "349    --  \n",
       "347    --  \n",
       "345    --  \n",
       "338    --  \n",
       "333    --  \n",
       "41     --  \n",
       "199    --  \n",
       "46     --  \n",
       "201    --  \n",
       "230    --  \n",
       "55     --  \n",
       "272    --  \n",
       "114    --  \n",
       "260    --  \n",
       "566    --  \n",
       "564    --  \n",
       "84     --  \n",
       "119    --  \n",
       "557    --  \n",
       "552    --  \n",
       "53     --  \n",
       "11     --  \n",
       "522    --  \n",
       "126    --  \n",
       "493    --  \n",
       "491    --  \n",
       "484    --  \n",
       "479    --  \n",
       "128    --  \n",
       "449    --  \n",
       "274    --  \n",
       "413  10.0  \n",
       "266  10.1  \n",
       "275  10.1  \n",
       "421  10.2  \n",
       "423  10.2  \n",
       "257  10.2  "
      ]
     },
     "execution_count": 38,
     "metadata": {},
     "output_type": "execute_result"
    }
   ],
   "source": [
    "Lloguers_ordenats = df.sort_values(\"Preu\", ascending=True) \n",
    "Lloguers_ordenats.head(50)"
   ]
  },
  {
   "cell_type": "code",
   "execution_count": 39,
   "id": "5b7ba61f",
   "metadata": {
    "scrolled": true
   },
   "outputs": [
    {
     "data": {
      "text/html": [
       "<div>\n",
       "<style scoped>\n",
       "    .dataframe tbody tr th:only-of-type {\n",
       "        vertical-align: middle;\n",
       "    }\n",
       "\n",
       "    .dataframe tbody tr th {\n",
       "        vertical-align: top;\n",
       "    }\n",
       "\n",
       "    .dataframe thead th {\n",
       "        text-align: right;\n",
       "    }\n",
       "</style>\n",
       "<table border=\"1\" class=\"dataframe\">\n",
       "  <thead>\n",
       "    <tr style=\"text-align: right;\">\n",
       "      <th></th>\n",
       "      <th>Any</th>\n",
       "      <th>Trimestre</th>\n",
       "      <th>Codi_Districte</th>\n",
       "      <th>Nom_Districte</th>\n",
       "      <th>Codi_Barri</th>\n",
       "      <th>Nom_Barri</th>\n",
       "      <th>Lloguer_mitja</th>\n",
       "      <th>Preu</th>\n",
       "    </tr>\n",
       "  </thead>\n",
       "  <tbody>\n",
       "    <tr>\n",
       "      <th>0</th>\n",
       "      <td>2021</td>\n",
       "      <td>1</td>\n",
       "      <td>1</td>\n",
       "      <td>Ciutat Vella</td>\n",
       "      <td>1</td>\n",
       "      <td>el Raval</td>\n",
       "      <td>Lloguer mitjà mensual (Euros/mes)</td>\n",
       "      <td>759.2</td>\n",
       "    </tr>\n",
       "    <tr>\n",
       "      <th>1</th>\n",
       "      <td>2021</td>\n",
       "      <td>1</td>\n",
       "      <td>1</td>\n",
       "      <td>Ciutat Vella</td>\n",
       "      <td>2</td>\n",
       "      <td>el Barri Gòtic</td>\n",
       "      <td>Lloguer mitjà mensual (Euros/mes)</td>\n",
       "      <td>929.6</td>\n",
       "    </tr>\n",
       "    <tr>\n",
       "      <th>2</th>\n",
       "      <td>2021</td>\n",
       "      <td>1</td>\n",
       "      <td>1</td>\n",
       "      <td>Ciutat Vella</td>\n",
       "      <td>3</td>\n",
       "      <td>la Barceloneta</td>\n",
       "      <td>Lloguer mitjà mensual (Euros/mes)</td>\n",
       "      <td>808.9</td>\n",
       "    </tr>\n",
       "    <tr>\n",
       "      <th>3</th>\n",
       "      <td>2021</td>\n",
       "      <td>1</td>\n",
       "      <td>1</td>\n",
       "      <td>Ciutat Vella</td>\n",
       "      <td>4</td>\n",
       "      <td>Sant Pere, Santa Caterina i la Ribera</td>\n",
       "      <td>Lloguer mitjà mensual (Euros/mes)</td>\n",
       "      <td>879.4</td>\n",
       "    </tr>\n",
       "    <tr>\n",
       "      <th>4</th>\n",
       "      <td>2021</td>\n",
       "      <td>1</td>\n",
       "      <td>2</td>\n",
       "      <td>Eixample</td>\n",
       "      <td>5</td>\n",
       "      <td>el Fort Pienc</td>\n",
       "      <td>Lloguer mitjà mensual (Euros/mes)</td>\n",
       "      <td>918.0</td>\n",
       "    </tr>\n",
       "  </tbody>\n",
       "</table>\n",
       "</div>"
      ],
      "text/plain": [
       "    Any  Trimestre  Codi_Districte Nom_Districte  Codi_Barri  \\\n",
       "0  2021          1               1  Ciutat Vella           1   \n",
       "1  2021          1               1  Ciutat Vella           2   \n",
       "2  2021          1               1  Ciutat Vella           3   \n",
       "3  2021          1               1  Ciutat Vella           4   \n",
       "4  2021          1               2      Eixample           5   \n",
       "\n",
       "                               Nom_Barri                      Lloguer_mitja  \\\n",
       "0                               el Raval  Lloguer mitjà mensual (Euros/mes)   \n",
       "1                         el Barri Gòtic  Lloguer mitjà mensual (Euros/mes)   \n",
       "2                         la Barceloneta  Lloguer mitjà mensual (Euros/mes)   \n",
       "3  Sant Pere, Santa Caterina i la Ribera  Lloguer mitjà mensual (Euros/mes)   \n",
       "4                          el Fort Pienc  Lloguer mitjà mensual (Euros/mes)   \n",
       "\n",
       "    Preu  \n",
       "0  759.2  \n",
       "1  929.6  \n",
       "2  808.9  \n",
       "3  879.4  \n",
       "4  918.0  "
      ]
     },
     "execution_count": 39,
     "metadata": {},
     "output_type": "execute_result"
    }
   ],
   "source": [
    "Lloguers = df.drop(df[df['Preu'] == ('--')].index)\n",
    "\n",
    "Lloguers.head()"
   ]
  },
  {
   "cell_type": "markdown",
   "id": "394e26e8",
   "metadata": {},
   "source": [
    "Observem els tipus de dades que conté la taula"
   ]
  },
  {
   "cell_type": "code",
   "execution_count": 40,
   "id": "f39c4515",
   "metadata": {
    "scrolled": true
   },
   "outputs": [
    {
     "name": "stdout",
     "output_type": "stream",
     "text": [
      "<class 'pandas.core.frame.DataFrame'>\n",
      "Int64Index: 540 entries, 0 to 583\n",
      "Data columns (total 8 columns):\n",
      " #   Column          Non-Null Count  Dtype \n",
      "---  ------          --------------  ----- \n",
      " 0   Any             540 non-null    int64 \n",
      " 1   Trimestre       540 non-null    int64 \n",
      " 2   Codi_Districte  540 non-null    int64 \n",
      " 3   Nom_Districte   540 non-null    object\n",
      " 4   Codi_Barri      540 non-null    int64 \n",
      " 5   Nom_Barri       540 non-null    object\n",
      " 6   Lloguer_mitja   540 non-null    object\n",
      " 7   Preu            540 non-null    object\n",
      "dtypes: int64(4), object(4)\n",
      "memory usage: 38.0+ KB\n"
     ]
    }
   ],
   "source": [
    "Lloguers.info()"
   ]
  },
  {
   "cell_type": "markdown",
   "id": "de1530eb",
   "metadata": {},
   "source": [
    "Convertim el preu a float, no és correcte que sigui objecte"
   ]
  },
  {
   "cell_type": "code",
   "execution_count": 41,
   "id": "c85bda0b",
   "metadata": {},
   "outputs": [
    {
     "data": {
      "text/plain": [
       "dtype('float64')"
      ]
     },
     "execution_count": 41,
     "metadata": {},
     "output_type": "execute_result"
    }
   ],
   "source": [
    "Lloguers['Preu'] = Lloguers['Preu'].astype('float64')\n",
    "Lloguers['Preu'].dtype"
   ]
  },
  {
   "cell_type": "markdown",
   "id": "dd5b078b",
   "metadata": {},
   "source": [
    "Visualitzem una estadística ràpida"
   ]
  },
  {
   "cell_type": "code",
   "execution_count": 42,
   "id": "a56fb3e3",
   "metadata": {},
   "outputs": [
    {
     "data": {
      "text/html": [
       "<div>\n",
       "<style scoped>\n",
       "    .dataframe tbody tr th:only-of-type {\n",
       "        vertical-align: middle;\n",
       "    }\n",
       "\n",
       "    .dataframe tbody tr th {\n",
       "        vertical-align: top;\n",
       "    }\n",
       "\n",
       "    .dataframe thead th {\n",
       "        text-align: right;\n",
       "    }\n",
       "</style>\n",
       "<table border=\"1\" class=\"dataframe\">\n",
       "  <thead>\n",
       "    <tr style=\"text-align: right;\">\n",
       "      <th></th>\n",
       "      <th>Any</th>\n",
       "      <th>Trimestre</th>\n",
       "      <th>Codi_Districte</th>\n",
       "      <th>Codi_Barri</th>\n",
       "      <th>Preu</th>\n",
       "    </tr>\n",
       "  </thead>\n",
       "  <tbody>\n",
       "    <tr>\n",
       "      <th>count</th>\n",
       "      <td>540.0</td>\n",
       "      <td>540.000000</td>\n",
       "      <td>540.000000</td>\n",
       "      <td>540.000000</td>\n",
       "      <td>540.000000</td>\n",
       "    </tr>\n",
       "    <tr>\n",
       "      <th>mean</th>\n",
       "      <td>2021.0</td>\n",
       "      <td>2.503704</td>\n",
       "      <td>6.185185</td>\n",
       "      <td>36.459259</td>\n",
       "      <td>442.157222</td>\n",
       "    </tr>\n",
       "    <tr>\n",
       "      <th>std</th>\n",
       "      <td>0.0</td>\n",
       "      <td>1.119065</td>\n",
       "      <td>2.839387</td>\n",
       "      <td>21.371096</td>\n",
       "      <td>457.358745</td>\n",
       "    </tr>\n",
       "    <tr>\n",
       "      <th>min</th>\n",
       "      <td>2021.0</td>\n",
       "      <td>1.000000</td>\n",
       "      <td>1.000000</td>\n",
       "      <td>1.000000</td>\n",
       "      <td>6.700000</td>\n",
       "    </tr>\n",
       "    <tr>\n",
       "      <th>25%</th>\n",
       "      <td>2021.0</td>\n",
       "      <td>2.000000</td>\n",
       "      <td>3.000000</td>\n",
       "      <td>18.000000</td>\n",
       "      <td>12.775000</td>\n",
       "    </tr>\n",
       "    <tr>\n",
       "      <th>50%</th>\n",
       "      <td>2021.0</td>\n",
       "      <td>2.500000</td>\n",
       "      <td>7.000000</td>\n",
       "      <td>35.000000</td>\n",
       "      <td>232.750000</td>\n",
       "    </tr>\n",
       "    <tr>\n",
       "      <th>75%</th>\n",
       "      <td>2021.0</td>\n",
       "      <td>4.000000</td>\n",
       "      <td>8.000000</td>\n",
       "      <td>55.000000</td>\n",
       "      <td>815.875000</td>\n",
       "    </tr>\n",
       "    <tr>\n",
       "      <th>max</th>\n",
       "      <td>2021.0</td>\n",
       "      <td>4.000000</td>\n",
       "      <td>10.000000</td>\n",
       "      <td>73.000000</td>\n",
       "      <td>1816.500000</td>\n",
       "    </tr>\n",
       "  </tbody>\n",
       "</table>\n",
       "</div>"
      ],
      "text/plain": [
       "          Any   Trimestre  Codi_Districte  Codi_Barri         Preu\n",
       "count   540.0  540.000000      540.000000  540.000000   540.000000\n",
       "mean   2021.0    2.503704        6.185185   36.459259   442.157222\n",
       "std       0.0    1.119065        2.839387   21.371096   457.358745\n",
       "min    2021.0    1.000000        1.000000    1.000000     6.700000\n",
       "25%    2021.0    2.000000        3.000000   18.000000    12.775000\n",
       "50%    2021.0    2.500000        7.000000   35.000000   232.750000\n",
       "75%    2021.0    4.000000        8.000000   55.000000   815.875000\n",
       "max    2021.0    4.000000       10.000000   73.000000  1816.500000"
      ]
     },
     "execution_count": 42,
     "metadata": {},
     "output_type": "execute_result"
    }
   ],
   "source": [
    "Lloguers.describe()"
   ]
  },
  {
   "cell_type": "markdown",
   "id": "e558aa0b",
   "metadata": {},
   "source": [
    "Amb la funció \"describe\" podem observar que el preu mínim (lloguer mitjà per superfície) és de 6.7€ i que el màxim, la mitjana del lloguer mensual d'algun barri, és de 1816,50 €. Després podem veure que només s'analitza l'any 2021."
   ]
  },
  {
   "cell_type": "markdown",
   "id": "fcc4be28",
   "metadata": {},
   "source": [
    "#### Crea almenys una visualització per:"
   ]
  },
  {
   "cell_type": "markdown",
   "id": "152514b2",
   "metadata": {},
   "source": [
    "#### - Una variable categòrica (Districte o Barri)"
   ]
  },
  {
   "cell_type": "code",
   "execution_count": 43,
   "id": "2fa9938c",
   "metadata": {},
   "outputs": [
    {
     "data": {
      "text/plain": [
       "Horta-Guinardó         80\n",
       "Nou Barris             80\n",
       "Sant Martí             80\n",
       "Sants-Montjuïc         56\n",
       "Sant Andreu            52\n",
       "Eixample               48\n",
       "Sarrià-Sant Gervasi    48\n",
       "Gràcia                 40\n",
       "Ciutat Vella           32\n",
       "Les Corts              24\n",
       "Name: Nom_Districte, dtype: int64"
      ]
     },
     "execution_count": 43,
     "metadata": {},
     "output_type": "execute_result"
    }
   ],
   "source": [
    "Lloguers.Nom_Districte.value_counts()"
   ]
  },
  {
   "cell_type": "code",
   "execution_count": 44,
   "id": "c9756153",
   "metadata": {},
   "outputs": [
    {
     "data": {
      "image/png": "[encoded data removed]",
      "text/plain": [
       "<Figure size 432x504 with 1 Axes>"
      ]
     },
     "metadata": {},
     "output_type": "display_data"
    }
   ],
   "source": [
    "dist_counts = Lloguers['Nom_Districte'].value_counts()\n",
    "plt.figure(figsize=(6,7))\n",
    "plt.pie(dist_counts.values, labels=dist_counts.index, colors=sns.color_palette('Paired'), autopct='%1.1f%%')\n",
    "plt.title('Distribució de districtes', fontsize=15)\n",
    "plt.savefig('Dist_Districtes_pastis.png')\n",
    "plt.show()"
   ]
  },
  {
   "cell_type": "code",
   "execution_count": 45,
   "id": "d918e493",
   "metadata": {},
   "outputs": [
    {
     "data": {
      "image/png": "[encoded data removed]",
      "text/plain": [
       "<Figure size 432x288 with 1 Axes>"
      ]
     },
     "metadata": {
      "needs_background": "light"
     },
     "output_type": "display_data"
    }
   ],
   "source": [
    "dist_counts = Lloguers['Nom_Districte'].value_counts()\n",
    "fig, ax = plt.subplots()\n",
    "ax.barh(dist_counts.index, dist_counts.values, color='cornflowerblue')\n",
    "ax.set_title('Distribució de districtes', fontsize=15)\n",
    "ax.set_xlabel('Registres')\n",
    "ax.set_ylabel('Districtes')\n",
    "plt.savefig('Dist_Districte_barres.png')\n",
    "plt.show()"
   ]
  },
  {
   "cell_type": "markdown",
   "id": "bd7f323f",
   "metadata": {},
   "source": [
    "Observem que hi ha més registres dels districtes de Sant Martí, Nou Barris i Horta-Guinardó, la mateixa quantitat de fet. "
   ]
  },
  {
   "cell_type": "markdown",
   "id": "81ed01ce",
   "metadata": {},
   "source": [
    "Ara comptem quants registres de cada categoria hi ha:"
   ]
  },
  {
   "cell_type": "code",
   "execution_count": 46,
   "id": "3f1e6d41",
   "metadata": {},
   "outputs": [
    {
     "name": "stdout",
     "output_type": "stream",
     "text": [
      "Lloguer mitjà mensual (Euros/mes)              270\n",
      "Lloguer mitjà per superfície (Euros/m2 mes)    270\n",
      "Name: Lloguer_mitja, dtype: int64\n"
     ]
    }
   ],
   "source": [
    "categories= Lloguers['Lloguer_mitja'].value_counts()\n",
    "print(categories)"
   ]
  },
  {
   "cell_type": "markdown",
   "id": "d338c468",
   "metadata": {},
   "source": [
    "#### - Una variable numèrica (Preu)\n"
   ]
  },
  {
   "cell_type": "code",
   "execution_count": 47,
   "id": "58909277",
   "metadata": {},
   "outputs": [],
   "source": [
    "#dos nous dataframes pel lloguer mitjà mensual i el lloguer mitjà per superfície\n",
    "llog_mitja = Lloguers.loc[Lloguers.Lloguer_mitja == 'Lloguer mitjà mensual (Euros/mes)']"
   ]
  },
  {
   "cell_type": "code",
   "execution_count": 48,
   "id": "012e27fd",
   "metadata": {},
   "outputs": [],
   "source": [
    "llog_msuper = Lloguers.loc[Lloguers.Lloguer_mitja == 'Lloguer mitjà per superfície (Euros/m2 mes)']"
   ]
  },
  {
   "cell_type": "markdown",
   "id": "d737d11f",
   "metadata": {},
   "source": [
    "Visualitzem dos histogrames del lloguer mitjà mensual i el lloguer mitjà per superfície"
   ]
  },
  {
   "cell_type": "code",
   "execution_count": 49,
   "id": "afc6da3c",
   "metadata": {},
   "outputs": [
    {
     "data": {
      "image/png": "[encoded data removed]",
      "text/plain": [
       "<Figure size 864x288 with 2 Axes>"
      ]
     },
     "metadata": {
      "needs_background": "light"
     },
     "output_type": "display_data"
    }
   ],
   "source": [
    "\n",
    "fig, axs = plt.subplots(1, 2, figsize=(12, 4))\n",
    "\n",
    "axs[0].hist(llog_mitja['Preu'], bins=10, color='palegreen')\n",
    "axs[0].set_title('Lloguer mitjà mensual',fontsize=15)\n",
    "axs[0].set_xlabel('Preu(€)')\n",
    "axs[0].set_ylabel('Registres')\n",
    "\n",
    "axs[1].hist(llog_msuper['Preu'], bins=20, color='cornflowerblue')\n",
    "axs[1].set_title('Lloguer mitjà mensual per m2', fontsize=15)\n",
    "axs[1].set_xlabel('Preu/m2(€)')\n",
    "axs[1].set_ylabel('Registres')\n",
    "\n",
    "plt.subplots_adjust(wspace=0.3, bottom=0.2)\n",
    "\n",
    "plt.savefig('Preu_preum2_lloguer.png')"
   ]
  },
  {
   "cell_type": "markdown",
   "id": "0e39f4bd",
   "metadata": {},
   "source": [
    "Podem observar que la majoria de registres del preu mitjà de lloguer mensual se situen al voltant dels 800 euros. El preu mitjà per m2, en canvi té un un gran nombre de registres que són entre 12 i 14 euros/m2. "
   ]
  },
  {
   "cell_type": "markdown",
   "id": "8f8d7f3f",
   "metadata": {},
   "source": [
    "#### - Una variable numèrica i una categòrica (Districte i Preu)"
   ]
  },
  {
   "cell_type": "code",
   "execution_count": 50,
   "id": "035dc1b2",
   "metadata": {},
   "outputs": [
    {
     "data": {
      "text/plain": [
       "Nom_Districte\n",
       "Sarrià-Sant Gervasi    1271.212500\n",
       "Les Corts              1214.066667\n",
       "Eixample               1000.545833\n",
       "Sant Martí              916.450000\n",
       "Gràcia                  877.265000\n",
       "Ciutat Vella            858.925000\n",
       "Sants-Montjuïc          798.932143\n",
       "Horta-Guinardó          765.007500\n",
       "Sant Andreu             721.196154\n",
       "Nou Barris              664.292500\n",
       "Name: Preu, dtype: float64"
      ]
     },
     "execution_count": 50,
     "metadata": {},
     "output_type": "execute_result"
    }
   ],
   "source": [
    "dist_mitja= llog_mitja.groupby(['Nom_Districte'])['Preu'].mean().sort_values(ascending=False)\n",
    "dist_mitja.head(10)"
   ]
  },
  {
   "cell_type": "code",
   "execution_count": 51,
   "id": "7f509b12",
   "metadata": {
    "scrolled": true
   },
   "outputs": [
    {
     "data": {
      "image/png": "[encoded data removed]",
      "text/plain": [
       "<Figure size 1800x720 with 1 Axes>"
      ]
     },
     "metadata": {
      "needs_background": "light"
     },
     "output_type": "display_data"
    }
   ],
   "source": [
    "plt.figure(figsize=(25,10))\n",
    "sns.barplot(x=dist_mitja.index, y=dist_mitja.values, order=dist_mitja.index, palette='Paired')\n",
    "plt.title('Preu mitjà per districte', fontsize=25)\n",
    "plt.xlabel(\"Districte\")\n",
    "plt.ylabel(\"Preu(€)\")\n",
    "plt.savefig('Preu_mitja_districte.png')\n",
    "plt.show()\n"
   ]
  },
  {
   "cell_type": "markdown",
   "id": "31090410",
   "metadata": {},
   "source": [
    "Si mirem la mitjana del preu del lloguer mensual per districte, El més car seria Sarrià-Sant Gervasi, seguit de Les Corts i l'Eixample. Quant als més econòmics, trobem Nou Barris, seguit per Sant Andreu i Horta-Guinardó."
   ]
  },
  {
   "cell_type": "code",
   "execution_count": 52,
   "id": "52e05ed9",
   "metadata": {},
   "outputs": [
    {
     "data": {
      "text/plain": [
       "Nom_Districte\n",
       "Sarrià-Sant Gervasi    15.012500\n",
       "Les Corts              14.008333\n",
       "Ciutat Vella           13.775000\n",
       "Sant Martí             13.440000\n",
       "Gràcia                 13.380000\n",
       "Eixample               13.300000\n",
       "Sants-Montjuïc         12.678571\n",
       "Horta-Guinardó         11.987500\n",
       "Sant Andreu            11.153846\n",
       "Nou Barris             10.922500\n",
       "Name: Preu, dtype: float64"
      ]
     },
     "execution_count": 52,
     "metadata": {},
     "output_type": "execute_result"
    }
   ],
   "source": [
    "dist_mitjam2 = llog_msuper.groupby(['Nom_Districte'])['Preu'].mean().sort_values(ascending=False)\n",
    "dist_mitjam2.head(10)"
   ]
  },
  {
   "cell_type": "code",
   "execution_count": 53,
   "id": "1c4b8f97",
   "metadata": {
    "scrolled": true
   },
   "outputs": [
    {
     "data": {
      "image/png": "[encoded data removed]",
      "text/plain": [
       "<Figure size 1800x720 with 1 Axes>"
      ]
     },
     "metadata": {
      "needs_background": "light"
     },
     "output_type": "display_data"
    }
   ],
   "source": [
    "plt.figure(figsize=(25,10))\n",
    "sns.barplot(x=dist_mitjam2.index, y=dist_mitjam2.values, order=dist_mitjam2.index, palette='Paired')\n",
    "plt.title('Preu mitjà de m2 per districte', fontsize=25)\n",
    "plt.xlabel(\"Districte\")\n",
    "plt.ylabel(\"Preu m2(€)\")\n",
    "plt.savefig('Preu_llog_trim2.png')\n",
    "plt.show()"
   ]
  },
  {
   "cell_type": "markdown",
   "id": "a9b740b0",
   "metadata": {},
   "source": [
    "Semblant a la mitjana del preu de lloguer mensual per districte, el lloguer mitjà per superfície l'encapçala Sarrià-Sant Gervasi i Les Corts, en tercera posició, però, segueix Ciutat Vella i no l'Eixample, fet que podria voler dir que els pisos de Ciutat Vella són antics i més petits que els de l'Eixample. Pel que fa als preus més assequibles per m2, els districtes són també Nou Barris, Sant Andreu i Horta-Guinardó. "
   ]
  },
  {
   "cell_type": "markdown",
   "id": "e8037a38",
   "metadata": {},
   "source": [
    "#### - Dues variables(Any o Trimestre i Preu)"
   ]
  },
  {
   "cell_type": "code",
   "execution_count": 54,
   "id": "4d5568c7",
   "metadata": {},
   "outputs": [
    {
     "data": {
      "text/plain": [
       "Trimestre\n",
       "1    869.304478\n",
       "2    851.910294\n",
       "3    880.794030\n",
       "4    884.467647\n",
       "Name: Preu, dtype: float64"
      ]
     },
     "execution_count": 54,
     "metadata": {},
     "output_type": "execute_result"
    }
   ],
   "source": [
    "preu_trimestre = llog_mitja.groupby(['Trimestre'])['Preu'].mean()\n",
    "preu_trimestre\n"
   ]
  },
  {
   "cell_type": "code",
   "execution_count": 55,
   "id": "4e8f15df",
   "metadata": {},
   "outputs": [
    {
     "data": {
      "image/png": "[encoded data removed]",
      "text/plain": [
       "<Figure size 432x288 with 1 Axes>"
      ]
     },
     "metadata": {
      "needs_background": "light"
     },
     "output_type": "display_data"
    }
   ],
   "source": [
    "sns.barplot(x=preu_trimestre.index, y=preu_trimestre.values, palette='Paired')\n",
    "plt.title(\"Preu mitjà lloguer mensual a Barcelona per trimestre\", fontsize=12)\n",
    "plt.xlabel(\"Trimestre\")\n",
    "plt.ylabel(\"Preu(€)\")\n",
    "plt.xticks(np.arange(4),('1r trimestre', '2n trimestre', '3r trimestre', '4t trimestre'), rotation = 45)\n",
    "plt.ylim([800, 900]) #acotem els límits del preu perquè sigui més precís\n",
    "plt.savefig('Preu_trimestre.png')\n",
    "plt.show()"
   ]
  },
  {
   "cell_type": "markdown",
   "id": "4af9408b",
   "metadata": {},
   "source": [
    "Si observem el preu mitjà de lloguer mensual per trimestre, veiem que el primer trimestre se situa al voltant dels 869€. Al segon trimestre baixa i se situa als 851€. La mala notícia és que puja força el tercer i quart trimestre, situant-se als 880 i 884€ respectivament. "
   ]
  },
  {
   "cell_type": "code",
   "execution_count": 56,
   "id": "cc3bdfee",
   "metadata": {},
   "outputs": [
    {
     "data": {
      "image/png": "[encoded data removed]",
      "text/plain": [
       "<Figure size 432x288 with 1 Axes>"
      ]
     },
     "metadata": {
      "needs_background": "light"
     },
     "output_type": "display_data"
    }
   ],
   "source": [
    "sns.boxplot(x='Trimestre', y='Preu',data=llog_msuper, palette='Paired')\n",
    "plt.title('Boxplot dels preus del lloguer m2 per trimestre')\n",
    "plt.xticks(np.arange(4),('1r trimestre', '2n trimestre', '3r trimestre', '4t trimestre'))\n",
    "plt.savefig('Lloguer_trimestre_preu_snsboxplot.jpg')"
   ]
  },
  {
   "cell_type": "markdown",
   "id": "b3a381e2",
   "metadata": {},
   "source": [
    "Amb els boxplot podem observar les distribucions de preus per m2 i veiem que segueixen una tendència semblant que els lloguers mensuals. Hi ha algunes dades amb valors atípics, en el cas del 2n trimestre, de preu per m2 massa baix en el primer quartil, fet que pot ser un error. També hi ha outliers en el tercer quartil, però pot és més plausible. "
   ]
  },
  {
   "cell_type": "code",
   "execution_count": 57,
   "id": "54f23434",
   "metadata": {},
   "outputs": [
    {
     "data": {
      "image/png": "[encoded data removed]",
      "text/plain": [
       "<Figure size 432x288 with 1 Axes>"
      ]
     },
     "metadata": {
      "needs_background": "light"
     },
     "output_type": "display_data"
    }
   ],
   "source": [
    "sns.stripplot(x= 'Any', y= 'Preu', data= llog_mitja, color='cornflowerblue')\n",
    "plt.savefig('Any_distribucioPreu.png')\n",
    "plt.show()"
   ]
  },
  {
   "cell_type": "markdown",
   "id": "1b39c80b",
   "metadata": {},
   "source": [
    "La gràfica de stripplot mostra una distibució al voltant dels 800 € i concentració important al voltant dels 700 i 900 €, la resta de registres de l'any es troben bastant dispersats. Veiem un únic punt als 1800€ però també alguns amb lloguers d'entre 400 i 600€."
   ]
  },
  {
   "cell_type": "markdown",
   "id": "91008ddd",
   "metadata": {},
   "source": [
    "\n",
    "#### - Tres variables (Barri o Districte, Trimestre i Preu)"
   ]
  },
  {
   "cell_type": "code",
   "execution_count": 58,
   "id": "3413ed8b",
   "metadata": {
    "scrolled": true
   },
   "outputs": [
    {
     "data": {
      "image/png": "[encoded data removed]",
      "text/plain": [
       "<Figure size 1800x720 with 1 Axes>"
      ]
     },
     "metadata": {
      "needs_background": "light"
     },
     "output_type": "display_data"
    }
   ],
   "source": [
    "plt.figure(figsize=(25,10))\n",
    "sns.barplot(y='Preu', x='Nom_Districte', hue='Trimestre', data=llog_mitja, palette='Paired')\n",
    "plt.title(\"Evolució dels preus per districte i trimestre\", fontsize=25)\n",
    "plt.xlabel(\"Districtes\")\n",
    "plt.ylabel(\"Preu(€)\")\n",
    "plt.savefig('Districtes_preus_trimestre.png')\n",
    "plt.show()"
   ]
  },
  {
   "cell_type": "markdown",
   "id": "0ebe1786",
   "metadata": {},
   "source": [
    "L'error estàndar aquí significa una dispersió de les dades i és molt notori al districte de Les Corts, Sarrià-Sant Gervasi i Sant Martí. Hi ha preus de lloguer, doncs, que s'allunyen força de la posició central. \n",
    "\n",
    "Algunes coses a destacar és la pujada gradual del lloguer al llarg dels quatre trimestres a Ciutat Vella i l'Eixample, uns districtes cada vegada més gentrificats. A districtes com a Sants-Montjuïc, Gràcia, Horta-Guinardó o Nou-Barris els preus es mantenen estables i fluctuen poc al llarg de l'any. A Sarrià-Sant Gervasi la mitjana de preus del quart trimestre és inferior a la del primer trimestre, quelcom contrari a la tendència general. "
   ]
  },
  {
   "cell_type": "code",
   "execution_count": 59,
   "id": "6b40635c",
   "metadata": {
    "scrolled": true
   },
   "outputs": [
    {
     "data": {
      "image/png": "[encoded data removed]",
      "text/plain": [
       "<Figure size 1080x504 with 1 Axes>"
      ]
     },
     "metadata": {
      "needs_background": "light"
     },
     "output_type": "display_data"
    }
   ],
   "source": [
    "plt.figure(figsize=(15,7))\n",
    "sns.stripplot(x='Nom_Districte', y='Preu', hue='Trimestre', data=llog_msuper, dodge=True, palette='Paired' )\n",
    "plt.xlabel(\"Districtes\")\n",
    "plt.ylabel(\"Preu(€)/m2\")\n",
    "plt.title(\"Preus per m2 durant els diferents trimestres\", fontsize=15)\n",
    "plt.savefig('Districtes_preusm2_trimestre.png')\n",
    "plt.show()"
   ]
  },
  {
   "cell_type": "markdown",
   "id": "0430e1f9",
   "metadata": {},
   "source": [
    "Quant als preus de lloguer per superfície, varien força d'un districte a un altre. La majoria es concentra al voltant dels 14-16 €/m2. Destaca un outlier del districte de Sant Andreu al segon trimestre, un preu massa baix i a Ciutat Vella, on hi ha alguns preus per m2 dels quatre trimestres força elevats. Hi ha una tendència a la pujada del primer al quart trimestre a Ciutat Vella, l'Eixample, Sarrià-Sant Gervasi i a baixar a Nou Barris i Sant Martí. No obstant això, els preus per m2 a Sant Martí es dispersen força i van dels 11 als 17€/m2 aproximadament. Juntament amb Sarrià-Sant Gervasi, Les Corts i Ciutat Vella, presenten els preus per m2 més alts. "
   ]
  },
  {
   "cell_type": "markdown",
   "id": "9b61867b",
   "metadata": {},
   "source": [
    "## - Exercici 2\n",
    "#### Exporta els gràfics com imatges o com HTML."
   ]
  },
  {
   "cell_type": "markdown",
   "id": "ca629a0a",
   "metadata": {},
   "source": [
    "## - Exercici 3\n",
    "#### Proposa alguna visualització que creguis que pot resultar interessant."
   ]
  },
  {
   "cell_type": "markdown",
   "id": "51622631",
   "metadata": {},
   "source": [
    "Els barris del més car al més barat segons la mitjana de lloguer durant el 2021 a Barcelona."
   ]
  },
  {
   "cell_type": "code",
   "execution_count": 60,
   "id": "daca09a6",
   "metadata": {
    "scrolled": true
   },
   "outputs": [
    {
     "data": {
      "text/html": [
       "<div>\n",
       "<style scoped>\n",
       "    .dataframe tbody tr th:only-of-type {\n",
       "        vertical-align: middle;\n",
       "    }\n",
       "\n",
       "    .dataframe tbody tr th {\n",
       "        vertical-align: top;\n",
       "    }\n",
       "\n",
       "    .dataframe thead th {\n",
       "        text-align: right;\n",
       "    }\n",
       "</style>\n",
       "<table border=\"1\" class=\"dataframe\">\n",
       "  <thead>\n",
       "    <tr style=\"text-align: right;\">\n",
       "      <th></th>\n",
       "      <th>Any</th>\n",
       "      <th>Trimestre</th>\n",
       "      <th>Codi_Districte</th>\n",
       "      <th>Nom_Districte</th>\n",
       "      <th>Codi_Barri</th>\n",
       "      <th>Nom_Barri</th>\n",
       "      <th>Lloguer_mitja</th>\n",
       "      <th>Preu</th>\n",
       "    </tr>\n",
       "  </thead>\n",
       "  <tbody>\n",
       "    <tr>\n",
       "      <th>312</th>\n",
       "      <td>2021</td>\n",
       "      <td>3</td>\n",
       "      <td>4</td>\n",
       "      <td>Les Corts</td>\n",
       "      <td>21</td>\n",
       "      <td>Pedralbes</td>\n",
       "      <td>Lloguer mitjà mensual (Euros/mes)</td>\n",
       "      <td>1816.5</td>\n",
       "    </tr>\n",
       "    <tr>\n",
       "      <th>166</th>\n",
       "      <td>2021</td>\n",
       "      <td>2</td>\n",
       "      <td>4</td>\n",
       "      <td>Les Corts</td>\n",
       "      <td>21</td>\n",
       "      <td>Pedralbes</td>\n",
       "      <td>Lloguer mitjà mensual (Euros/mes)</td>\n",
       "      <td>1680.3</td>\n",
       "    </tr>\n",
       "    <tr>\n",
       "      <th>458</th>\n",
       "      <td>2021</td>\n",
       "      <td>4</td>\n",
       "      <td>4</td>\n",
       "      <td>Les Corts</td>\n",
       "      <td>21</td>\n",
       "      <td>Pedralbes</td>\n",
       "      <td>Lloguer mitjà mensual (Euros/mes)</td>\n",
       "      <td>1679.3</td>\n",
       "    </tr>\n",
       "    <tr>\n",
       "      <th>20</th>\n",
       "      <td>2021</td>\n",
       "      <td>1</td>\n",
       "      <td>4</td>\n",
       "      <td>Les Corts</td>\n",
       "      <td>21</td>\n",
       "      <td>Pedralbes</td>\n",
       "      <td>Lloguer mitjà mensual (Euros/mes)</td>\n",
       "      <td>1598.2</td>\n",
       "    </tr>\n",
       "    <tr>\n",
       "      <th>461</th>\n",
       "      <td>2021</td>\n",
       "      <td>4</td>\n",
       "      <td>5</td>\n",
       "      <td>Sarrià-Sant Gervasi</td>\n",
       "      <td>24</td>\n",
       "      <td>les Tres Torres</td>\n",
       "      <td>Lloguer mitjà mensual (Euros/mes)</td>\n",
       "      <td>1597.4</td>\n",
       "    </tr>\n",
       "    <tr>\n",
       "      <th>23</th>\n",
       "      <td>2021</td>\n",
       "      <td>1</td>\n",
       "      <td>5</td>\n",
       "      <td>Sarrià-Sant Gervasi</td>\n",
       "      <td>24</td>\n",
       "      <td>les Tres Torres</td>\n",
       "      <td>Lloguer mitjà mensual (Euros/mes)</td>\n",
       "      <td>1578.0</td>\n",
       "    </tr>\n",
       "    <tr>\n",
       "      <th>315</th>\n",
       "      <td>2021</td>\n",
       "      <td>3</td>\n",
       "      <td>5</td>\n",
       "      <td>Sarrià-Sant Gervasi</td>\n",
       "      <td>24</td>\n",
       "      <td>les Tres Torres</td>\n",
       "      <td>Lloguer mitjà mensual (Euros/mes)</td>\n",
       "      <td>1566.5</td>\n",
       "    </tr>\n",
       "    <tr>\n",
       "      <th>21</th>\n",
       "      <td>2021</td>\n",
       "      <td>1</td>\n",
       "      <td>5</td>\n",
       "      <td>Sarrià-Sant Gervasi</td>\n",
       "      <td>22</td>\n",
       "      <td>Vallvidrera, el Tibidabo i les Planes</td>\n",
       "      <td>Lloguer mitjà mensual (Euros/mes)</td>\n",
       "      <td>1531.7</td>\n",
       "    </tr>\n",
       "    <tr>\n",
       "      <th>463</th>\n",
       "      <td>2021</td>\n",
       "      <td>4</td>\n",
       "      <td>5</td>\n",
       "      <td>Sarrià-Sant Gervasi</td>\n",
       "      <td>26</td>\n",
       "      <td>Sant Gervasi - Galvany</td>\n",
       "      <td>Lloguer mitjà mensual (Euros/mes)</td>\n",
       "      <td>1433.7</td>\n",
       "    </tr>\n",
       "    <tr>\n",
       "      <th>169</th>\n",
       "      <td>2021</td>\n",
       "      <td>2</td>\n",
       "      <td>5</td>\n",
       "      <td>Sarrià-Sant Gervasi</td>\n",
       "      <td>24</td>\n",
       "      <td>les Tres Torres</td>\n",
       "      <td>Lloguer mitjà mensual (Euros/mes)</td>\n",
       "      <td>1429.0</td>\n",
       "    </tr>\n",
       "  </tbody>\n",
       "</table>\n",
       "</div>"
      ],
      "text/plain": [
       "      Any  Trimestre  Codi_Districte        Nom_Districte  Codi_Barri  \\\n",
       "312  2021          3               4            Les Corts          21   \n",
       "166  2021          2               4            Les Corts          21   \n",
       "458  2021          4               4            Les Corts          21   \n",
       "20   2021          1               4            Les Corts          21   \n",
       "461  2021          4               5  Sarrià-Sant Gervasi          24   \n",
       "23   2021          1               5  Sarrià-Sant Gervasi          24   \n",
       "315  2021          3               5  Sarrià-Sant Gervasi          24   \n",
       "21   2021          1               5  Sarrià-Sant Gervasi          22   \n",
       "463  2021          4               5  Sarrià-Sant Gervasi          26   \n",
       "169  2021          2               5  Sarrià-Sant Gervasi          24   \n",
       "\n",
       "                                 Nom_Barri                      Lloguer_mitja  \\\n",
       "312                              Pedralbes  Lloguer mitjà mensual (Euros/mes)   \n",
       "166                              Pedralbes  Lloguer mitjà mensual (Euros/mes)   \n",
       "458                              Pedralbes  Lloguer mitjà mensual (Euros/mes)   \n",
       "20                               Pedralbes  Lloguer mitjà mensual (Euros/mes)   \n",
       "461                        les Tres Torres  Lloguer mitjà mensual (Euros/mes)   \n",
       "23                         les Tres Torres  Lloguer mitjà mensual (Euros/mes)   \n",
       "315                        les Tres Torres  Lloguer mitjà mensual (Euros/mes)   \n",
       "21   Vallvidrera, el Tibidabo i les Planes  Lloguer mitjà mensual (Euros/mes)   \n",
       "463                 Sant Gervasi - Galvany  Lloguer mitjà mensual (Euros/mes)   \n",
       "169                        les Tres Torres  Lloguer mitjà mensual (Euros/mes)   \n",
       "\n",
       "       Preu  \n",
       "312  1816.5  \n",
       "166  1680.3  \n",
       "458  1679.3  \n",
       "20   1598.2  \n",
       "461  1597.4  \n",
       "23   1578.0  \n",
       "315  1566.5  \n",
       "21   1531.7  \n",
       "463  1433.7  \n",
       "169  1429.0  "
      ]
     },
     "execution_count": 60,
     "metadata": {},
     "output_type": "execute_result"
    }
   ],
   "source": [
    "barris_cars = llog_mitja.sort_values(by='Preu', ascending=False)\n",
    "barris_cars.head(10)"
   ]
  },
  {
   "cell_type": "code",
   "execution_count": 61,
   "id": "42ce3f17",
   "metadata": {
    "scrolled": true
   },
   "outputs": [
    {
     "data": {
      "image/png": "[encoded data removed]",
      "text/plain": [
       "<Figure size 1080x504 with 1 Axes>"
      ]
     },
     "metadata": {
      "needs_background": "light"
     },
     "output_type": "display_data"
    }
   ],
   "source": [
    "plt.figure(figsize=(15,7))\n",
    "sns.barplot(data=barris_cars, x='Nom_Barri', y='Preu',palette='Paired')\n",
    "plt.xticks(rotation = 90)\n",
    "plt.xlabel(\"Barris\")\n",
    "plt.ylabel(\"Preu(€)\")\n",
    "plt.title(\"Barris, de més cars a més assequibles\", fontsize=15)\n",
    "plt.savefig('Barris_ordenats_preu.png')\n",
    "plt.show()"
   ]
  },
  {
   "cell_type": "markdown",
   "id": "b7e1c095",
   "metadata": {},
   "source": [
    "Després de veure els districtes segons la mitjana de preus de lloguer, ara analitzem els barris. Veiem que entre els més cars es troben: Pedralbes, les Tres Torres, Vallvidrera, Tibidabo i les Planes i Sant Gervasi-Galbany. El que destaca és la barra d'error de Vallvidrera, el Tibidabo i les Planes igual que el Barri del Diagonal Mar i el Front Marítim del Poblenou. Això pot estar relacionat amb el fet que hi ha pisos i cases de molt valor i altres en estat de més deixadesa en el primer cas o pisos de nova construcció i pisos antics en el segon. Pel que fa als barris amb el lloguer més assequible, trobem Ciutat Meridiana, la Trinitat Nova i Baró de Viver."
   ]
  },
  {
   "cell_type": "markdown",
   "id": "03e5eb53",
   "metadata": {},
   "source": [
    "Ara veiem una gràfica del que destina una persona amb un salari mínim interprofessional per llogar un pis a Barcelona tenint en compte el preu mitjà de lloguer."
   ]
  },
  {
   "cell_type": "code",
   "execution_count": 62,
   "id": "616c69bd",
   "metadata": {},
   "outputs": [],
   "source": [
    "llm_Barcelona = llog_mitja['Preu'].mean()\n",
    "salari_min_int=1080"
   ]
  },
  {
   "cell_type": "code",
   "execution_count": 63,
   "id": "711fcf55",
   "metadata": {},
   "outputs": [
    {
     "data": {
      "text/plain": [
       "871.5937037037036"
      ]
     },
     "execution_count": 63,
     "metadata": {},
     "output_type": "execute_result"
    }
   ],
   "source": [
    "llm_Barcelona = llog_mitja['Preu'].mean()\n",
    "llm_Barcelona"
   ]
  },
  {
   "cell_type": "code",
   "execution_count": 64,
   "id": "28bf0507",
   "metadata": {},
   "outputs": [
    {
     "data": {
      "image/png": "[encoded data removed]",
      "text/plain": [
       "<Figure size 432x288 with 1 Axes>"
      ]
     },
     "metadata": {},
     "output_type": "display_data"
    }
   ],
   "source": [
    "percentatge_lloguer = llm_Barcelona / salari_min_int * 100\n",
    "percentatges = [percentatge_lloguer, 100 - percentatge_lloguer]\n",
    "etiquetes = ['Lloguer', 'Resta']\n",
    "\n",
    "fig, ax = plt.subplots()\n",
    "ax.pie(percentatges, labels=etiquetes, autopct='%.1f%%', colors=sns.color_palette('Paired'))\n",
    "plt.title('Salari mínim destinat al lloguer a Barcelona', fontsize=15)\n",
    "plt.savefig('Salari_lloguer.png')\n",
    "plt.show()"
   ]
  },
  {
   "cell_type": "markdown",
   "id": "07ce76b1",
   "metadata": {},
   "source": [
    "Les xifres parlen per si soles: la mitjana del preu de lloguer a Barcelona és alta, un fet que dificulta llogar un pis per sencer per a una persona amb qualsevol salari, però sobretot amb el salari mínim interprofessional."
   ]
  }
 ],
 "metadata": {
  "kernelspec": {
   "display_name": "Python 3 (ipykernel)",
   "language": "python",
   "name": "python3"
  },
  "language_info": {
   "codemirror_mode": {
    "name": "ipython",
    "version": 3
   },
   "file_extension": ".py",
   "mimetype": "text/x-python",
   "name": "python",
   "nbconvert_exporter": "python",
   "pygments_lexer": "ipython3",
   "version": "3.9.12"
  }
 },
 "nbformat": 4,
 "nbformat_minor": 5
}
